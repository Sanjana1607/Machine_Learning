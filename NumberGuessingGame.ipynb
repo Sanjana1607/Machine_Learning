{
  "nbformat": 4,
  "nbformat_minor": 0,
  "metadata": {
    "colab": {
      "name": "NumberGuessingGame.ipynb",
      "provenance": [],
      "collapsed_sections": [],
      "authorship_tag": "ABX9TyOWytVPG8MG2GBqkFMGEO6T",
      "include_colab_link": true
    },
    "kernelspec": {
      "name": "python3",
      "display_name": "Python 3"
    },
    "language_info": {
      "name": "python"
    }
  },
  "cells": [
    {
      "cell_type": "markdown",
      "metadata": {
        "id": "view-in-github",
        "colab_type": "text"
      },
      "source": [
        "<a href=\"https://colab.research.google.com/github/Sanjana1607/Machine_Learning/blob/main/NumberGuessingGame.ipynb\" target=\"_parent\"><img src=\"https://colab.research.google.com/assets/colab-badge.svg\" alt=\"Open In Colab\"/></a>"
      ]
    },
    {
      "cell_type": "code",
      "metadata": {
        "id": "gH43dnkCOUvA",
        "colab": {
          "base_uri": "https://localhost:8080/"
        },
        "outputId": "9e635e74-99a9-4197-e05d-c5dd4cf509b6"
      },
      "source": [
        "# A simple python mini project where you give a number range and type a digit withn the range to play\n",
        "import random\n",
        "\n",
        "top_of_range = input(\"Type a number range: \")\n",
        "\n",
        "if top_of_range.isdigit():\n",
        "    top_of_range = int(top_of_range)\n",
        "\n",
        "    if top_of_range <= 0:\n",
        "        print('Please type a number larger than 0 next time.')\n",
        "        quit()\n",
        "else:\n",
        "    print('Please type a number next time.')\n",
        "    quit()\n",
        "\n",
        "random_number = random.randint(0, top_of_range)\n",
        "guesses = 0\n",
        "\n",
        "while True:\n",
        "    guesses += 1\n",
        "    user_guess = input(\"Make a guess: \")\n",
        "    if user_guess.isdigit():\n",
        "        user_guess = int(user_guess)\n",
        "    else:\n",
        "        print('Please type a number next time.')\n",
        "        continue\n",
        "\n",
        "    if user_guess == random_number:\n",
        "        print(\"You got it!\")\n",
        "        break\n",
        "    elif user_guess > random_number:\n",
        "        print(\"You were above the number!\")\n",
        "    else:\n",
        "        print(\"You were below the number!\")\n",
        "\n",
        "print(\"You got it in\", guesses, \"guesses\")"
      ],
      "execution_count": 5,
      "outputs": [
        {
          "output_type": "stream",
          "text": [
            "Type a number range: 10\n",
            "Make a guess: 8\n",
            "You got it!\n",
            "You got it in 1 guesses\n"
          ],
          "name": "stdout"
        }
      ]
    }
  ]
}